{
  "cells": [
    {
      "cell_type": "markdown",
      "metadata": {},
      "source": [
        "\n# Uncontrollable factor\n\nThis example.\n"
      ]
    },
    {
      "cell_type": "markdown",
      "metadata": {},
      "source": [
        "## Import libraries.\n\u5236\u5fa1\u3067\u304d\u306a\u3044\u9805\u76ee\u3092\u6307\u5b9a\u3057\u3066DEA\u3092\u9069\u7528\u3059\u308b\u3002\n\n"
      ]
    },
    {
      "cell_type": "code",
      "execution_count": null,
      "metadata": {
        "collapsed": false
      },
      "outputs": [],
      "source": [
        "import matplotlib.pyplot as plt\nimport pandas as pd\n\nfrom Pyfrontier.frontier_model import EnvelopDEA\n\nsupply_chain_df = pd.DataFrame(\n    {\"cost\": [1, 2, 4, 6, 4], \"day\": [4, 2, 1, 1, 4], \"profit\": [2, 2, 2, 2, 2]}\n)\nsupply_chain_df\n\nEnvelopDEA\nplt"
      ]
    }
  ],
  "metadata": {
    "kernelspec": {
      "display_name": "Python 3",
      "language": "python",
      "name": "python3"
    },
    "language_info": {
      "codemirror_mode": {
        "name": "ipython",
        "version": 3
      },
      "file_extension": ".py",
      "mimetype": "text/x-python",
      "name": "python",
      "nbconvert_exporter": "python",
      "pygments_lexer": "ipython3",
      "version": "3.9.13"
    }
  },
  "nbformat": 4,
  "nbformat_minor": 0
}
