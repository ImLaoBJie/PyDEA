{
  "cells": [
    {
      "cell_type": "markdown",
      "metadata": {},
      "source": [
        "\n# Super efficiency\n\nThis example.\n"
      ]
    },
    {
      "cell_type": "markdown",
      "metadata": {},
      "source": [
        "## Import libraries.\n\u8d85\u52b9\u7387\u6027\u306f\u81ea\u5206\u81ea\u8eab\u3092\u9664\u304fDMU\u306b\u3088\u3063\u3066\u6e2c\u3089\u308c\u308b\u52b9\u7387\u6027\u3067\u3042\u308a\uff11\u3092\u8d85\u3048\u5f97\u308b\u3002\n\u52b9\u7387\u5024\u304c\uff11\u3067\u306f\u6bd4\u8f03\u3057\u8f9b\u3044\u5834\u5408\u306b\u8a55\u4fa1\u3059\u308b\u624b\u6cd5\u3002\n\n"
      ]
    },
    {
      "cell_type": "code",
      "execution_count": null,
      "metadata": {
        "collapsed": false
      },
      "outputs": [],
      "source": [
        "import matplotlib.pyplot as plt\nimport pandas as pd\n\nfrom Pyfrontier.frontier_model import EnvelopDEA\n\nsupply_chain_df = pd.DataFrame(\n    {\"cost\": [1, 2, 4, 6, 4], \"day\": [4, 2, 1, 1, 4], \"profit\": [2, 2, 2, 2, 2]}\n)\nsupply_chain_df"
      ]
    },
    {
      "cell_type": "markdown",
      "metadata": {},
      "source": [
        "## Fit dea model.\n\nThe necessity inputs are inputs and outputs. The result has below belongings.\n\n"
      ]
    },
    {
      "cell_type": "code",
      "execution_count": null,
      "metadata": {
        "collapsed": false
      },
      "outputs": [],
      "source": [
        "dea = EnvelopDEA(\"CRS\", \"in\", super_efficiency=True)\ndea.fit(\n    supply_chain_df[[\"day\", \"cost\"]].to_numpy(),\n    supply_chain_df[[\"profit\"]].to_numpy(),\n)\n\ndea.result[1]"
      ]
    },
    {
      "cell_type": "code",
      "execution_count": null,
      "metadata": {
        "collapsed": false
      },
      "outputs": [],
      "source": [
        "plt.figure()\nplt.plot(\n    [r.dmu.input[0] for r in dea.result[:-1]],\n    [r.dmu.input[1] for r in dea.result[:-1]],\n    \"-o\",\n)\nplt.plot([4, 6], [1, 1], color=\"C0\")\nplt.plot([1, 4], [4, 1], color=\"black\", linestyle=\"--\")\nplt.legend()\nplt.show()"
      ]
    }
  ],
  "metadata": {
    "kernelspec": {
      "display_name": "Python 3",
      "language": "python",
      "name": "python3"
    },
    "language_info": {
      "codemirror_mode": {
        "name": "ipython",
        "version": 3
      },
      "file_extension": ".py",
      "mimetype": "text/x-python",
      "name": "python",
      "nbconvert_exporter": "python",
      "pygments_lexer": "ipython3",
      "version": "3.9.13"
    }
  },
  "nbformat": 4,
  "nbformat_minor": 0
}
